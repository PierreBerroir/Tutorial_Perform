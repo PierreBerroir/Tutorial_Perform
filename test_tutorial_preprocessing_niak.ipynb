{
 "cells": [
  {
   "cell_type": "markdown",
   "metadata": {},
   "source": [
    "Hello folks\n",
    "\n",
    "Here is a tutorial on NIAK rs-fMRI preprocessing pipline for Perform User.\n",
    "\n",
    "This is widely inspired on SIMEXP's work and especially Pierre Bellec.\n",
    "\n",
    "you can find the original content here:\n",
    "\n",
    "http://niak.simexp-lab.org/niak_tutorials.html\n",
    "https://nbviewer.jupyter.org/github/SIMEXP/niak_tutorials/blob/master/niak_tutorial_fmri_preprocessing.ipynb\n",
    "\n",
    "\n",
    "I just tried to adapt it for Perform data. And I will do my best to make it clearer.\n",
    "\n"
   ]
  },
  {
   "cell_type": "markdown",
   "metadata": {},
   "source": [
    "*\n",
    "\n",
    "\n",
    "First, you need to conect to Perform cluster number 10 with your NETNAME and your PASSWORD\n",
    "\n",
    "Open a Terminal and type :"
   ]
  },
  {
   "cell_type": "code",
   "execution_count": null,
   "metadata": {},
   "outputs": [],
   "source": [
    "ssh -XY NETNAME@perf-hpc10"
   ]
  },
  {
   "cell_type": "markdown",
   "metadata": {},
   "source": [
    "*\n",
    "\n",
    "to start niak you have to type into the terminal  :"
   ]
  },
  {
   "cell_type": "code",
   "execution_count": null,
   "metadata": {},
   "outputs": [],
   "source": [
    "cd /home/perform-admin/niak_singularity/"
   ]
  },
  {
   "cell_type": "markdown",
   "metadata": {},
   "source": [
    "then"
   ]
  },
  {
   "cell_type": "code",
   "execution_count": null,
   "metadata": {},
   "outputs": [],
   "source": [
    "./psom_console.sh niak-cog-1.1.4.img"
   ]
  },
  {
   "cell_type": "markdown",
   "metadata": {},
   "source": [
    "An Octave Windows should open with current Directory set up to your home. \n",
    "\n",
    "(You can minimize the terminal we will not use it anymore, But do not close it)"
   ]
  },
  {
   "cell_type": "markdown",
   "metadata": {},
   "source": [
    "*\n",
    "Data collection \n",
    "\n",
    "You need to copy past the NIAK_tutorial_folder into your home. Data are inside\n",
    "\n",
    "In the Octave command Windo type :\n",
    "\n"
   ]
  },
  {
   "cell_type": "code",
   "execution_count": null,
   "metadata": {},
   "outputs": [],
   "source": [
    "cp .."
   ]
  }
 ],
 "metadata": {
  "kernelspec": {
   "display_name": "Python 3",
   "language": "python",
   "name": "python3"
  },
  "language_info": {
   "codemirror_mode": {
    "name": "ipython",
    "version": 3
   },
   "file_extension": ".py",
   "mimetype": "text/x-python",
   "name": "python",
   "nbconvert_exporter": "python",
   "pygments_lexer": "ipython3",
   "version": "3.7.3"
  }
 },
 "nbformat": 4,
 "nbformat_minor": 2
}
